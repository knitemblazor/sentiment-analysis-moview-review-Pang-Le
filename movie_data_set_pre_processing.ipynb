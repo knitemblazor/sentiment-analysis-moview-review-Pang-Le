{
  "nbformat": 4,
  "nbformat_minor": 0,
  "metadata": {
    "colab": {
      "name": "movie data set mlp.ipynb",
      "version": "0.3.2",
      "provenance": [],
      "collapsed_sections": [],
      "include_colab_link": true
    },
    "kernelspec": {
      "name": "python3",
      "display_name": "Python 3"
    }
  },
  "cells": [
    {
      "cell_type": "markdown",
      "metadata": {
        "id": "view-in-github",
        "colab_type": "text"
      },
      "source": [
        "<a href=\"https://colab.research.google.com/github/knitemblazor/sentiment-analysis-moview-review-Pang-Lee/blob/master/movie_data_set_pre_processing.ipynb\" target=\"_parent\"><img src=\"https://colab.research.google.com/assets/colab-badge.svg\" alt=\"Open In Colab\"/></a>"
      ]
    },
    {
      "metadata": {
        "id": "tT4BtXWzj5KJ",
        "colab_type": "code",
        "outputId": "e481295e-fa12-4f0e-af2b-dd0671eabd0f",
        "colab": {
          "base_uri": "https://localhost:8080/",
          "height": 54
        }
      },
      "cell_type": "code",
      "source": [
        "from tensorflow import keras\n",
        "from keras.models import Sequential\n",
        "from keras.layers import Dense, Dropout, Flatten\n",
        "from keras.layers import Conv2D, MaxPooling2D\n",
        "from keras import backend as K\n",
        "import numpy as np\n",
        "from gensim.models import Word2Vec\n",
        "import tensorflow as tf\n",
        "from google.colab import drive\n",
        "drive.mount('/content/gdrive')"
      ],
      "execution_count": 0,
      "outputs": [
        {
          "output_type": "stream",
          "text": [
            "Drive already mounted at /content/gdrive; to attempt to forcibly remount, call drive.mount(\"/content/gdrive\", force_remount=True).\n"
          ],
          "name": "stdout"
        }
      ]
    },
    {
      "metadata": {
        "id": "uLuwf_KzBd5v",
        "colab_type": "text"
      },
      "cell_type": "markdown",
      "source": [
        "combining all text contents to a file"
      ]
    },
    {
      "metadata": {
        "id": "WYBFySqFDjYp",
        "colab_type": "code",
        "colab": {}
      },
      "cell_type": "code",
      "source": [
        "from os import listdir\n",
        "\n",
        "def load_doc(filename):\n",
        "  file = open(filename, 'r')\n",
        "  text = file.read()\n",
        "  file.close()\n",
        "  return text\n",
        "\n",
        "counter=0\n",
        "directory = '/content/gdrive/My Drive/latest/txt_sentoken/neg'\n",
        "for filename in listdir(directory):\n",
        "  counter=counter+1\n",
        "  if not filename.endswith(\".txt\"):\n",
        "    continue\n",
        "  if(counter>20):\n",
        "    break\n",
        "  path = directory + '/' + filename\n",
        "  doc = load_doc(path)\n",
        "  print('Loaded %s' % filename)"
      ],
      "execution_count": 0,
      "outputs": []
    },
    {
      "metadata": {
        "id": "g3PIqHvUh6NX",
        "colab_type": "code",
        "colab": {}
      },
      "cell_type": "code",
      "source": [
        "filename = '/content/gdrive/My Drive/latest/moviepsen.txt'\n",
        "file = open(filename,\"r\" )\n",
        "negative = str(file.read())\n",
        "file.close() "
      ],
      "execution_count": 0,
      "outputs": []
    },
    {
      "metadata": {
        "id": "FY4I_06siCmn",
        "colab_type": "code",
        "colab": {}
      },
      "cell_type": "code",
      "source": [
        "filename = '/content/gdrive/My Drive/latest/moviensen.txt'\n",
        "file = open(filename,\"r\" )\n",
        "positive = str(file.read())\n",
        "file.close() "
      ],
      "execution_count": 0,
      "outputs": []
    },
    {
      "metadata": {
        "id": "WNcz0rIHBmSo",
        "colab_type": "text"
      },
      "cell_type": "markdown",
      "source": [
        "paragraph to sentence tokenizer"
      ]
    },
    {
      "metadata": {
        "id": "6HtsjCYPjC7o",
        "colab_type": "code",
        "colab": {}
      },
      "cell_type": "code",
      "source": [
        "from pprint import pprint\n",
        "from nltk.tokenize.punkt import PunktSentenceTokenizer, PunktTrainer\n",
        " \n",
        "trainer = PunktTrainer()\n",
        "trainer.INCLUDE_ALL_COLLOCS = True\n",
        "trainer.train(positive)\n",
        " \n",
        "tokenizer = PunktSentenceTokenizer(trainer.get_params())\n",
        "pos=tokenizer.tokenize(positive)"
      ],
      "execution_count": 0,
      "outputs": []
    },
    {
      "metadata": {
        "id": "3pMdGrDZvR7B",
        "colab_type": "code",
        "colab": {}
      },
      "cell_type": "code",
      "source": [
        "trainer = PunktTrainer()\n",
        "trainer.INCLUDE_ALL_COLLOCS = True\n",
        "trainer.train(negative)\n",
        " \n",
        "tokenizer = PunktSentenceTokenizer(trainer.get_params())\n",
        "neg=tokenizer.tokenize(negative)"
      ],
      "execution_count": 0,
      "outputs": []
    },
    {
      "metadata": {
        "id": "FN6Yi28NpBkO",
        "colab_type": "code",
        "outputId": "5cf51dfb-0ede-43df-bdf4-1559ed3f8fa0",
        "colab": {
          "base_uri": "https://localhost:8080/",
          "height": 34
        }
      },
      "cell_type": "code",
      "source": [
        "print (len(pos))"
      ],
      "execution_count": 0,
      "outputs": [
        {
          "output_type": "stream",
          "text": [
            "35941\n"
          ],
          "name": "stdout"
        }
      ]
    },
    {
      "metadata": {
        "id": "GyWfDk6mv2Fc",
        "colab_type": "code",
        "outputId": "7860d2aa-3bf4-465f-ca63-566a0a906098",
        "colab": {
          "base_uri": "https://localhost:8080/",
          "height": 34
        }
      },
      "cell_type": "code",
      "source": [
        "print(len(neg))"
      ],
      "execution_count": 0,
      "outputs": [
        {
          "output_type": "stream",
          "text": [
            "35419\n"
          ],
          "name": "stdout"
        }
      ]
    },
    {
      "metadata": {
        "id": "mSV0Wjs_DgD9",
        "colab_type": "code",
        "outputId": "bd159472-9391-4d11-a8cc-fcbb56d4a035",
        "colab": {
          "base_uri": "https://localhost:8080/",
          "height": 54
        }
      },
      "cell_type": "code",
      "source": [
        "print(p)"
      ],
      "execution_count": 0,
      "outputs": [
        {
          "output_type": "stream",
          "text": [
            "in a regrettable crime of passion he takes a baseball bat to the guy's head , and suddenly finds himself a fugitive for murder , and estranged from his wife and two kids .\n"
          ],
          "name": "stdout"
        }
      ]
    },
    {
      "metadata": {
        "id": "UDMWV7jKNz15",
        "colab_type": "text"
      },
      "cell_type": "markdown",
      "source": [
        "Removing stopwords and punctuations"
      ]
    },
    {
      "metadata": {
        "id": "TjI-ci6Zs6G6",
        "colab_type": "code",
        "colab": {}
      },
      "cell_type": "code",
      "source": [
        "import string\n",
        "a=[]\n",
        "filename = '/content/gdrive/My Drive/latest/stopwords.txt'\n",
        "file = open(filename,\"r\" )\n",
        "stopwords = file.read().splitlines()\n",
        "file.close() \n",
        "for c in string.punctuation:\n",
        "    a.append(c)\n",
        "with open('/content/gdrive/My Drive/latest/posmov1f.txt', 'w') as f:\n",
        "    for item in pos:\n",
        "      words=(set(item.split()).difference(a))\n",
        "      wordsf=\" \".join(str(x) for x in list(words))\n",
        "      f.write(\"%s\\n\" % wordsf)\n",
        "file.close()"
      ],
      "execution_count": 0,
      "outputs": []
    },
    {
      "metadata": {
        "id": "3bxdHwgotejp",
        "colab_type": "code",
        "colab": {}
      },
      "cell_type": "code",
      "source": [
        "import string\n",
        "a=[]\n",
        "filename = '/content/gdrive/My Drive/latest/stopwords.txt'\n",
        "file = open(filename,\"r\" )\n",
        "stopwords = file.read().splitlines()\n",
        "file.close() \n",
        "for c in string.punctuation:\n",
        "    a.append(c)\n",
        "with open('/content/gdrive/My Drive/latest/negmovf.txt', 'w') as f:\n",
        "    for item in neg:\n",
        "      words=(set(item.split()).difference(a))\n",
        "      words=set(words).difference(stopwords)\n",
        "      wordsf=\" \".join(str(x) for x in list(words))\n",
        "      f.write(\"%s\\n\" % wordsf)\n",
        "file.close()"
      ],
      "execution_count": 0,
      "outputs": []
    },
    {
      "metadata": {
        "id": "4BSJM1mVQgCl",
        "colab_type": "text"
      },
      "cell_type": "markdown",
      "source": [
        "accessing processed files"
      ]
    },
    {
      "metadata": {
        "id": "j62GcaeBIYd3",
        "colab_type": "code",
        "colab": {}
      },
      "cell_type": "code",
      "source": [
        "filename = '/content/gdrive/My Drive/latest/posmovf.txt'\n",
        "file = open(filename,\"r\" )\n",
        "sentences = (file.read().splitlines())\n",
        "file.close()\n",
        "\n",
        "filename = '/content/gdrive/My Drive/latest/negmovf.txt'\n",
        "file = open(filename,\"r\" )\n",
        "sent2 = (file.read().splitlines())\n",
        "file.close()\n",
        "\n",
        "label=[]\n",
        "for i in range(len(sentences)):\n",
        "  label.append(1)\n",
        "  \n",
        "for i in range(len(sent2)):\n",
        "  label.append(0)\n",
        "for i in range(len(sent2)):\n",
        "  sentences.append(sent2[i])"
      ],
      "execution_count": 0,
      "outputs": []
    },
    {
      "metadata": {
        "id": "sp2PnHL_R5HA",
        "colab_type": "code",
        "outputId": "f72a788c-d403-4744-aac9-64e9951048b3",
        "colab": {
          "base_uri": "https://localhost:8080/",
          "height": 34
        }
      },
      "cell_type": "code",
      "source": [
        "print(len(sentences))"
      ],
      "execution_count": 0,
      "outputs": [
        {
          "output_type": "stream",
          "text": [
            "71360\n"
          ],
          "name": "stdout"
        }
      ]
    },
    {
      "metadata": {
        "id": "yYrcaDLMSPa0",
        "colab_type": "code",
        "outputId": "0e1e0786-a557-4931-fa67-74778dc07217",
        "colab": {
          "base_uri": "https://localhost:8080/",
          "height": 54
        }
      },
      "cell_type": "code",
      "source": [
        "\n",
        "print((sentences[1]))"
      ],
      "execution_count": 0,
      "outputs": [
        {
          "output_type": "stream",
          "text": [
            "head finds two his to from bat kids of a takes himself regrettable guy's baseball passion murder the for estranged wife suddenly and fugitive crime he in\n"
          ],
          "name": "stdout"
        }
      ]
    },
    {
      "metadata": {
        "id": "wC5TNRH2XD3F",
        "colab_type": "code",
        "colab": {}
      },
      "cell_type": "code",
      "source": [
        "sense=[]\n",
        "for i in range(len(sentences)):\n",
        "    sense.append(0)\n",
        "for i in range(0,len(sentences)):\n",
        "    sense[i]=sentences[i].split()"
      ],
      "execution_count": 0,
      "outputs": []
    },
    {
      "metadata": {
        "id": "CrgeKZYbPbkW",
        "colab_type": "code",
        "colab": {}
      },
      "cell_type": "code",
      "source": [
        "sentencesf=[]\n",
        "labelf=[]\n",
        "j=[]\n",
        "for i in range(len(sentences)):\n",
        "  j.append(len(sense[i]))\n",
        "\n",
        "\n",
        "for i in range(len(j)):\n",
        "  if(j[i]<=68):\n",
        "    sentencesf.append(sense[i])\n",
        "    labelf.append(label[i])"
      ],
      "execution_count": 0,
      "outputs": []
    },
    {
      "metadata": {
        "id": "41bU_KO7LvFI",
        "colab_type": "code",
        "outputId": "c4c5c33a-9a8c-4d5c-dd01-11e3d56fa57d",
        "colab": {
          "base_uri": "https://localhost:8080/",
          "height": 52
        }
      },
      "cell_type": "code",
      "source": [
        "model = Word2Vec(sentencesf,size=68, min_count=1)#word vector dim=28\n",
        "# summarize the loaded model\n",
        "print(model)\n",
        "# summarize vocabulary\n",
        "words = list(model.wv.vocab)\n",
        "print(len(words))"
      ],
      "execution_count": 0,
      "outputs": [
        {
          "output_type": "stream",
          "text": [
            "Word2Vec(vocab=50825, size=68, alpha=0.025)\n",
            "50825\n"
          ],
          "name": "stdout"
        }
      ]
    },
    {
      "metadata": {
        "id": "EQz0qG65RInN",
        "colab_type": "code",
        "outputId": "3e0c84df-3698-4579-f9a6-3b4e50cd9de9",
        "colab": {
          "base_uri": "https://localhost:8080/",
          "height": 72
        }
      },
      "cell_type": "code",
      "source": [
        "zerovector=[]\n",
        "for i in range(68):\n",
        "  zerovector.append(0)\n",
        "# print(label)\n",
        "def sentencevector(sent):\n",
        "  vector=[]\n",
        "  for word in sent:\n",
        "       vector.append(model[word])\n",
        "  if(len(sent)<68):\n",
        "    for i in range(len(sent),68):\n",
        "      vector.append(zerovector)\n",
        "  return(vector)\n",
        "Xtotal=[]\n",
        "Ytotal=labelf\n",
        "for i in range(len(sentencesf)):\n",
        "  a=np.array(sentencevector(sentencesf[i]))\n",
        "  Xtotal.append(a)"
      ],
      "execution_count": 0,
      "outputs": [
        {
          "output_type": "stream",
          "text": [
            "/usr/local/lib/python3.6/dist-packages/ipykernel_launcher.py:8: DeprecationWarning: Call to deprecated `__getitem__` (Method will be removed in 4.0.0, use self.wv.__getitem__() instead).\n",
            "  \n"
          ],
          "name": "stderr"
        }
      ]
    },
    {
      "metadata": {
        "id": "Cc4z3knBbGcG",
        "colab_type": "code",
        "outputId": "10bdeae9-4d23-4710-bcc0-c35fa19ef342",
        "colab": {
          "base_uri": "https://localhost:8080/",
          "height": 34
        }
      },
      "cell_type": "code",
      "source": [
        "len(Xtotal)  "
      ],
      "execution_count": 0,
      "outputs": [
        {
          "output_type": "execute_result",
          "data": {
            "text/plain": [
              "71338"
            ]
          },
          "metadata": {
            "tags": []
          },
          "execution_count": 113
        }
      ]
    },
    {
      "metadata": {
        "id": "OhMKZmJkbkMm",
        "colab_type": "code",
        "colab": {}
      },
      "cell_type": "code",
      "source": [
        "import random\n",
        "indices=[]\n",
        "for i in range(len(Xtotal)):\n",
        "  indices.append(i)\n",
        "print(len(indices))\n",
        "\n",
        "train = random.sample(indices,50000)\n",
        "print(train)\n",
        "test=list(set(indices).difference(train))\n",
        "print(test)\n",
        "\n"
      ],
      "execution_count": 0,
      "outputs": []
    },
    {
      "metadata": {
        "id": "fE27VzzUeGa0",
        "colab_type": "code",
        "colab": {}
      },
      "cell_type": "code",
      "source": [
        "Xtrain=[]\n",
        "Xtest=[]\n",
        "Ytrain=[]\n",
        "Ytest=[]\n",
        "for i in train:\n",
        "  Xtrain.append(Xtotal[i])\n",
        "  Ytrain.append(labelf[i])\n",
        "for i in test:\n",
        "  Xtest.append(Xtotal[i])\n",
        "  Ytest.append(labelf[i])\n",
        " \n",
        "Xtrain=np.array(Xtrain)\n",
        "Xtest=np.array(Xtest)\n",
        "Y_train=np.array(Ytrain)\n",
        "Y_test=np.array(Ytest)"
      ],
      "execution_count": 0,
      "outputs": []
    },
    {
      "metadata": {
        "id": "I7b3cLN5RSuk",
        "colab_type": "code",
        "colab": {}
      },
      "cell_type": "code",
      "source": [
        "X_train = Xtrain.reshape(Xtrain.shape[0], 68, 68 , 1).astype('float32')\n",
        "X_test=Xtest.reshape(Xtest.shape[0], 68, 68 , 1).astype('float32')"
      ],
      "execution_count": 0,
      "outputs": []
    },
    {
      "metadata": {
        "id": "w0vGFyufRC_2",
        "colab_type": "code",
        "outputId": "27598821-2bf8-4d48-d45e-237fae10e1bf",
        "colab": {
          "base_uri": "https://localhost:8080/",
          "height": 34
        }
      },
      "cell_type": "code",
      "source": [
        "print(len(X_train),len(Y_train))"
      ],
      "execution_count": 0,
      "outputs": [
        {
          "output_type": "stream",
          "text": [
            "50000 50000\n"
          ],
          "name": "stdout"
        }
      ]
    },
    {
      "metadata": {
        "id": "i0Sp9dgBTpUc",
        "colab_type": "code",
        "outputId": "2a450ca0-022b-426f-e63d-6c0e1d79c71d",
        "colab": {
          "base_uri": "https://localhost:8080/",
          "height": 399
        }
      },
      "cell_type": "code",
      "source": [
        "model = tf.keras.models.Sequential([\n",
        "  tf.keras.layers.Flatten(),\n",
        "  tf.keras.layers.Dense(300, activation=tf.nn.relu),\n",
        "  tf.keras.layers.Dropout(0.3),\n",
        "  tf.keras.layers.Dense(100, activation=tf.nn.relu),\n",
        "  tf.keras.layers.Dropout(0.2),\n",
        "  tf.keras.layers.Dense(2, activation=tf.nn.softmax)\n",
        "])\n",
        "model.compile(optimizer='adam',\n",
        "              loss='sparse_categorical_crossentropy',\n",
        "              metrics=['accuracy'])\n",
        "\n",
        "model.fit(X_train, Y_train, epochs=10)\n",
        "model.evaluate(X_test, Y_test)\n"
      ],
      "execution_count": 0,
      "outputs": [
        {
          "output_type": "stream",
          "text": [
            "Epoch 1/10\n",
            "50000/50000 [==============================] - 38s 755us/step - loss: 0.2059 - acc: 0.9157\n",
            "Epoch 2/10\n",
            "50000/50000 [==============================] - 35s 691us/step - loss: 0.1341 - acc: 0.9426\n",
            "Epoch 3/10\n",
            "50000/50000 [==============================] - 34s 688us/step - loss: 0.1211 - acc: 0.9487\n",
            "Epoch 4/10\n",
            "50000/50000 [==============================] - 34s 684us/step - loss: 0.1130 - acc: 0.9510\n",
            "Epoch 5/10\n",
            "50000/50000 [==============================] - 35s 709us/step - loss: 0.1065 - acc: 0.9525\n",
            "Epoch 6/10\n",
            "50000/50000 [==============================] - 36s 729us/step - loss: 0.1026 - acc: 0.9540\n",
            "Epoch 7/10\n",
            "50000/50000 [==============================] - 36s 714us/step - loss: 0.0986 - acc: 0.9554\n",
            "Epoch 8/10\n",
            "50000/50000 [==============================] - 35s 708us/step - loss: 0.0940 - acc: 0.9570\n",
            "Epoch 9/10\n",
            "50000/50000 [==============================] - 35s 705us/step - loss: 0.0911 - acc: 0.9571\n",
            "Epoch 10/10\n",
            "50000/50000 [==============================] - 36s 713us/step - loss: 0.0899 - acc: 0.9580\n",
            "21338/21338 [==============================] - 3s 150us/step\n"
          ],
          "name": "stdout"
        },
        {
          "output_type": "execute_result",
          "data": {
            "text/plain": [
              "[0.12334351781940227, 0.9499015839949735]"
            ]
          },
          "metadata": {
            "tags": []
          },
          "execution_count": 123
        }
      ]
    },
    {
      "metadata": {
        "id": "8taOZ198Isch",
        "colab_type": "code",
        "colab": {}
      },
      "cell_type": "code",
      "source": [
        "y_pred= model.predict_classes(X_test)"
      ],
      "execution_count": 0,
      "outputs": []
    },
    {
      "metadata": {
        "id": "18Db4fcbGS5B",
        "colab_type": "code",
        "outputId": "975e659c-1845-4f57-d6bd-b644c3042560",
        "colab": {
          "base_uri": "https://localhost:8080/",
          "height": 173
        }
      },
      "cell_type": "code",
      "source": [
        "from sklearn.metrics import classification_report\n",
        "print(classification_report(Y_test, y_pred))"
      ],
      "execution_count": 0,
      "outputs": [
        {
          "output_type": "stream",
          "text": [
            "              precision    recall  f1-score   support\n",
            "\n",
            "           0       0.92      0.98      0.95     10566\n",
            "           1       0.98      0.92      0.95     10772\n",
            "\n",
            "   micro avg       0.95      0.95      0.95     21338\n",
            "   macro avg       0.95      0.95      0.95     21338\n",
            "weighted avg       0.95      0.95      0.95     21338\n",
            "\n"
          ],
          "name": "stdout"
        }
      ]
    }
  ]
}
