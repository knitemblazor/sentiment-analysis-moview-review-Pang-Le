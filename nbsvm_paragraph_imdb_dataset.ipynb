{
  "nbformat": 4,
  "nbformat_minor": 0,
  "metadata": {
    "colab": {
      "name": "nbsvm paragraph imdb dataset.ipynb",
      "version": "0.3.2",
      "provenance": [],
      "collapsed_sections": []
    },
    "kernelspec": {
      "name": "python3",
      "display_name": "Python 3"
    }
  },
  "cells": [
    {
      "metadata": {
        "id": "tT4BtXWzj5KJ",
        "colab_type": "code",
        "outputId": "3898b56e-ee8a-4036-98a6-83c044a460df",
        "colab": {
          "base_uri": "https://localhost:8080/",
          "height": 34
        }
      },
      "cell_type": "code",
      "source": [
        "from tensorflow import keras\n",
        "from keras.models import Sequential\n",
        "from keras.layers import Dense, Dropout, Flatten\n",
        "from keras import backend as K\n",
        "import numpy as np\n",
        "from gensim.models import Word2Vec\n",
        "import tensorflow as tf\n",
        "from google.colab import drive\n",
        "drive.mount('/content/gdrive')"
      ],
      "execution_count": 76,
      "outputs": [
        {
          "output_type": "stream",
          "text": [
            "Drive already mounted at /content/gdrive; to attempt to forcibly remount, call drive.mount(\"/content/gdrive\", force_remount=True).\n"
          ],
          "name": "stdout"
        }
      ]
    },
    {
      "metadata": {
        "id": "uLuwf_KzBd5v",
        "colab_type": "text"
      },
      "cell_type": "markdown",
      "source": [
        "combining all text contents to list elements"
      ]
    },
    {
      "metadata": {
        "id": "WYBFySqFDjYp",
        "colab_type": "code",
        "colab": {}
      },
      "cell_type": "code",
      "source": [
        "from os import listdir\n",
        "\n",
        "def load_doc(filename):\n",
        "  file = open(filename, 'r')\n",
        "  text = file.read()\n",
        "  file.close()\n",
        "  return text\n",
        "everyreviewn=[]\n",
        "counter=0\n",
        "directory = '/content/gdrive/My Drive/latest/txt_sentoken/pos'\n",
        "for filename in listdir(directory):\n",
        "  counter=counter+1\n",
        "  if not filename.endswith(\".txt\"):\n",
        "    continue\n",
        "#   if(counter>20):\n",
        "#     break\n",
        "  path = directory + '/' + filename\n",
        "  doc = load_doc(path)\n",
        "  everyreviewn.append(doc)\n",
        "#   print('Loaded %s' % filename)"
      ],
      "execution_count": 0,
      "outputs": []
    },
    {
      "metadata": {
        "id": "wDeJyfJ2ezR2",
        "colab_type": "text"
      },
      "cell_type": "markdown",
      "source": [
        "writing the list to a dataframe"
      ]
    },
    {
      "metadata": {
        "id": "6jCgol5Ypvgl",
        "colab_type": "code",
        "colab": {}
      },
      "cell_type": "code",
      "source": [
        "import csv\n",
        "\n",
        "with open(\"/content/gdrive/My Drive/nbsvm/pos1.csv\", \"a\",newline='') as fp:\n",
        "    wr = csv.writer(fp, dialect='excel')\n",
        "    wr.writerow(everyreviewn)"
      ],
      "execution_count": 0,
      "outputs": []
    },
    {
      "metadata": {
        "id": "LVW6dNsHv8xu",
        "colab_type": "code",
        "colab": {}
      },
      "cell_type": "code",
      "source": [
        "import pandas as pd, numpy as np\n",
        "from sklearn.linear_model import LogisticRegression\n",
        "from sklearn.feature_extraction.text import CountVectorizer, TfidfVectorizer\n",
        "pos = pd.read_csv('/content/gdrive/My Drive/nbsvm/pos1.csv',header=None)\n",
        "neg = pd.read_csv('/content/gdrive/My Drive/nbsvm/neg1.csv',header=None)\n",
        "pos=pos.transpose()\n",
        "neg=neg.transpose()\n",
        "pos.columns = [\"comment_text\"]\n",
        "neg.columns = [\"comment_text\"]\n",
        "# print(pos,neg)"
      ],
      "execution_count": 0,
      "outputs": []
    },
    {
      "metadata": {
        "id": "AogYP8CtYYed",
        "colab_type": "code",
        "colab": {
          "base_uri": "https://localhost:8080/",
          "height": 347
        },
        "outputId": "228c5376-d3fc-4cf8-d023-7bacf76420ea"
      },
      "cell_type": "code",
      "source": [
        "posl = []\n",
        "negl = []\n",
        "y    = []\n",
        "for i in range(1000):\n",
        "  posl.append(1)\n",
        "  negl.append(0)\n",
        "\n",
        "se1= pd.Series(posl)\n",
        "se2= pd.Series(negl)\n",
        "pos['label'] = se1.values\n",
        "neg['label'] = se2.values\n",
        "Xtotal=pd.concat([pos,neg], ignore_index=True)\n",
        "lens = Xtotal.comment_text.str.len()\n",
        "lens.mean(), lens.std(), lens.max()\n",
        "lens.hist();\n"
      ],
      "execution_count": 146,
      "outputs": [
        {
          "output_type": "display_data",
          "data": {
            "image/png": "[encoded data removed]",
            "text/plain": [
              "<Figure size 576x396 with 1 Axes>"
            ]
          },
          "metadata": {
            "tags": []
          }
        }
      ]
    },
    {
      "metadata": {
        "id": "MOa9LooSdylI",
        "colab_type": "text"
      },
      "cell_type": "markdown",
      "source": [
        "shuffle the data frame"
      ]
    },
    {
      "metadata": {
        "id": "VuoRXqFzagI8",
        "colab_type": "code",
        "colab": {}
      },
      "cell_type": "code",
      "source": [
        "X_total = Xtotal.sample(frac=1).reset_index(drop=True)"
      ],
      "execution_count": 0,
      "outputs": []
    },
    {
      "metadata": {
        "id": "LkbLYBlqeldm",
        "colab_type": "code",
        "colab": {}
      },
      "cell_type": "code",
      "source": [
        "X_train=X_total[:1500]\n",
        "X_test=X_total[1500:] "
      ],
      "execution_count": 0,
      "outputs": []
    },
    {
      "metadata": {
        "id": "Trtpdeb8awNv",
        "colab_type": "code",
        "colab": {}
      },
      "cell_type": "code",
      "source": [
        "# print(X_test)"
      ],
      "execution_count": 0,
      "outputs": []
    },
    {
      "metadata": {
        "id": "sqB_VU5fwegK",
        "colab_type": "code",
        "outputId": "b9e832dd-5211-4e2d-99ed-07c0945efc7d",
        "colab": {
          "base_uri": "https://localhost:8080/",
          "height": 86
        }
      },
      "cell_type": "code",
      "source": [
        "label_cols = ['comment_text']\n",
        "pos.describe()\n",
        "COMMENT = 'comment_text'\n",
        "\n",
        "import re, string\n",
        "re_tok = re.compile(f'([{string.punctuation}“”¨«»®´·º½¾¿¡§£₤‘’])')\n",
        "\n",
        "def tokenize(s): \n",
        "  return re_tok.sub(r' \\1 ', s).split()\n",
        "\n",
        "# p = pos.shape[0]\n",
        "# n = neg.shape[0]\n",
        "\n",
        "\n",
        "\n",
        "vec = TfidfVectorizer(ngram_range=(1,2), tokenizer=tokenize,\n",
        "               min_df=3, max_df=0.9, strip_accents='unicode', use_idf=1,\n",
        "               smooth_idf=1, sublinear_tf=1 )\n",
        "trn_term_doc = vec.fit_transform(X_train[COMMENT])\n",
        "\n",
        "test_term_doc = vec.transform(X_test[COMMENT])\n",
        "\n",
        "trn_term_doc, test_term_doc\n",
        "\n",
        "\n"
      ],
      "execution_count": 150,
      "outputs": [
        {
          "output_type": "execute_result",
          "data": {
            "text/plain": [
              "(<1500x73848 sparse matrix of type '<class 'numpy.float64'>'\n",
              " \twith 1137724 stored elements in Compressed Sparse Row format>,\n",
              " <500x73848 sparse matrix of type '<class 'numpy.float64'>'\n",
              " \twith 360734 stored elements in Compressed Sparse Row format>)"
            ]
          },
          "metadata": {
            "tags": []
          },
          "execution_count": 150
        }
      ]
    },
    {
      "metadata": {
        "id": "_yR1Pcyw4cMB",
        "colab_type": "code",
        "outputId": "ad6671e8-1d9c-4997-a8aa-d4f4622b07aa",
        "colab": {
          "base_uri": "https://localhost:8080/",
          "height": 72
        }
      },
      "cell_type": "code",
      "source": [
        "def pr(y_i, y):\n",
        "    p = x[y==y_i].sum(0)\n",
        "    return (p+1) / ((y==y_i).sum()+1)\n",
        "\n",
        "x = trn_term_doc\n",
        "test_x = test_term_doc\n",
        "\n",
        "def get_mdl(y):\n",
        "    y = y.values\n",
        "    r = np.log(pr(1,y) / pr(0,y))\n",
        "    m = LogisticRegression(C=1, dual=True)\n",
        "    x_nb = x.multiply(r)\n",
        "    return m.fit(x_nb, y), r\n",
        "\n",
        "preds = np.zeros((len(X_test),len(label_cols)))\n",
        "\n",
        "# for i, j in enumerate(label_cols):\n",
        "#     print('fit', j)\n",
        "m,r = get_mdl(X_train[\"label\"])\n",
        "preds = m.predict_proba(test_x.multiply(r))[:,1]\n",
        "\n"
      ],
      "execution_count": 153,
      "outputs": [
        {
          "output_type": "stream",
          "text": [
            "/usr/local/lib/python3.6/dist-packages/sklearn/linear_model/logistic.py:433: FutureWarning: Default solver will be changed to 'lbfgs' in 0.22. Specify a solver to silence this warning.\n",
            "  FutureWarning)\n"
          ],
          "name": "stderr"
        }
      ]
    },
    {
      "metadata": {
        "id": "yM018ma8rOmM",
        "colab_type": "code",
        "colab": {}
      },
      "cell_type": "code",
      "source": [
        "# print(preds,X_test[\"label\"])\n",
        "# print(preds[1])\n",
        "ypred=[]\n",
        "for i in range(len(preds)):\n",
        "    if(preds[i]>0.50000):\n",
        "      ypred.append(1)\n",
        "    else:\n",
        "      ypred.append(0)"
      ],
      "execution_count": 0,
      "outputs": []
    },
    {
      "metadata": {
        "id": "15VdJEfBeA6I",
        "colab_type": "code",
        "colab": {
          "base_uri": "https://localhost:8080/",
          "height": 34
        },
        "outputId": "cbb72d17-50dd-4bf7-b854-1ade9bf6c535"
      },
      "cell_type": "code",
      "source": [
        "a=np.array(X_test)\n",
        "y=a[:,1]\n",
        "y=np.array(y)\n",
        "ypred=np.array(ypred)\n",
        "print(len(y),len(ypred))"
      ],
      "execution_count": 155,
      "outputs": [
        {
          "output_type": "stream",
          "text": [
            "500 500\n"
          ],
          "name": "stdout"
        }
      ]
    },
    {
      "metadata": {
        "id": "h16r_gDufG7-",
        "colab_type": "code",
        "colab": {
          "base_uri": "https://localhost:8080/",
          "height": 34
        },
        "outputId": "776a8dc5-fba0-4731-8c62-02c4eeb8dfa1"
      },
      "cell_type": "code",
      "source": [
        "count=0\n",
        "for i in range(len(ypred)):\n",
        "  if(y[i]==ypred[i]):\n",
        "    count=count+1\n",
        "    \n",
        "print(\"accuracy:\",count/len(ypred))\n"
      ],
      "execution_count": 157,
      "outputs": [
        {
          "output_type": "stream",
          "text": [
            "accuracy: 0.822\n"
          ],
          "name": "stdout"
        }
      ]
    }
  ]
}